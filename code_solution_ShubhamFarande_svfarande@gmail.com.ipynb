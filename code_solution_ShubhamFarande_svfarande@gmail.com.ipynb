{
 "cells": [
  {
   "cell_type": "code",
   "execution_count": 3,
   "metadata": {},
   "outputs": [],
   "source": [
    "import pandas as pd\n",
    "from sklearn.feature_extraction.text import TfidfVectorizer\n",
    "from sklearn.naive_bayes import MultinomialNB\n",
    "from sklearn.metrics import confusion_matrix, classification_report\n",
    "from transformers import pipeline"
   ]
  },
  {
   "cell_type": "code",
   "execution_count": 4,
   "metadata": {},
   "outputs": [
    {
     "data": {
      "text/plain": [
       "((200,), (1115,), (200,), (1115,))"
      ]
     },
     "execution_count": 4,
     "metadata": {},
     "output_type": "execute_result"
    }
   ],
   "source": [
    "X_train = pd.read_csv('data/X_train.csv').to_numpy().reshape(-1)\n",
    "X_test = pd.read_csv('data/X_test.csv', usecols=['text']).to_numpy().reshape(-1)\n",
    "y_train = pd.read_csv('data/y_train.csv').to_numpy().reshape(-1)\n",
    "y_test = pd.read_csv('data/y_test.csv', usecols=['label']).to_numpy().reshape(-1)\n",
    "X_train.shape, X_test.shape, y_train.shape, y_test.shape"
   ]
  },
  {
   "cell_type": "code",
   "execution_count": 5,
   "metadata": {},
   "outputs": [],
   "source": [
    "# Train baseline tf-idf model\n",
    "def train_baseline_tfidf(X_train, y_train, X_test, y_test):\n",
    "    \"\"\"Trains a tf-idf model and evaluates its performance.\"\"\"\n",
    "    tfidf = TfidfVectorizer()\n",
    "    X_train_tfidf = tfidf.fit_transform(X_train)\n",
    "    X_test_tfidf = tfidf.transform(X_test)\n",
    "\n",
    "    model = MultinomialNB()\n",
    "    model.fit(X_train_tfidf, y_train)\n",
    "    y_pred = model.predict(X_test_tfidf)\n",
    "\n",
    "    print(\"Baseline Model Performance:\")\n",
    "    print(confusion_matrix(y_test, y_pred))\n",
    "    print(classification_report(y_test, y_pred))\n",
    "\n",
    "    return tfidf"
   ]
  },
  {
   "cell_type": "code",
   "execution_count": 6,
   "metadata": {},
   "outputs": [],
   "source": [
    "# Extract keywords using transformer-based model\n",
    "def extract_keywords(X_train, existing_vocab):\n",
    "    \"\"\"Extracts new keywords using a transformer-based model.\"\"\"\n",
    "    keyword_extractor = pipeline('ner', model='dbmdz/bert-large-cased-finetuned-conll03-english')\n",
    "    \n",
    "    new_keywords = set()\n",
    "    for text in X_train:\n",
    "        entities = keyword_extractor(text)\n",
    "        for entity in entities:\n",
    "            word = entity['word'].lower()\n",
    "            if word not in existing_vocab:\n",
    "                new_keywords.add(word)\n",
    "\n",
    "    return new_keywords"
   ]
  },
  {
   "cell_type": "code",
   "execution_count": 7,
   "metadata": {},
   "outputs": [],
   "source": [
    "# Update tf-idf vocabulary\n",
    "def update_tfidf_vocabulary(tfidf, new_keywords):\n",
    "    \"\"\"Updates the tf-idf model vocabulary with new keywords.\"\"\"\n",
    "    existing_vocab = set(tfidf.vocabulary_.keys())\n",
    "    updated_vocab = existing_vocab.union(new_keywords)\n",
    "    return TfidfVectorizer(vocabulary=updated_vocab)"
   ]
  },
  {
   "cell_type": "code",
   "execution_count": 8,
   "metadata": {},
   "outputs": [],
   "source": [
    "# Train updated tf-idf model\n",
    "def train_updated_tfidf(X_train, y_train, X_test, y_test, updated_tfidf):\n",
    "    \"\"\"Trains and evaluates the model with the updated tf-idf vocabulary.\"\"\"\n",
    "    X_train_tfidf = updated_tfidf.fit_transform(X_train)\n",
    "    X_test_tfidf = updated_tfidf.transform(X_test)\n",
    "\n",
    "    model = MultinomialNB()\n",
    "    model.fit(X_train_tfidf, y_train)\n",
    "    y_pred = model.predict(X_test_tfidf)\n",
    "\n",
    "    print(\"Updated Model Performance:\")\n",
    "    print(confusion_matrix(y_test, y_pred))\n",
    "    print(classification_report(y_test, y_pred))"
   ]
  },
  {
   "cell_type": "code",
   "execution_count": 9,
   "metadata": {},
   "outputs": [
    {
     "name": "stdout",
     "output_type": "stream",
     "text": [
      "Baseline Model Performance:\n",
      "[[965   0]\n",
      " [145   5]]\n",
      "              precision    recall  f1-score   support\n",
      "\n",
      "           0       0.87      1.00      0.93       965\n",
      "           1       1.00      0.03      0.06       150\n",
      "\n",
      "    accuracy                           0.87      1115\n",
      "   macro avg       0.93      0.52      0.50      1115\n",
      "weighted avg       0.89      0.87      0.81      1115\n",
      "\n"
     ]
    }
   ],
   "source": [
    "tfidf = train_baseline_tfidf(X_train, y_train, X_test, y_test)"
   ]
  },
  {
   "cell_type": "code",
   "execution_count": 10,
   "metadata": {},
   "outputs": [
    {
     "name": "stderr",
     "output_type": "stream",
     "text": [
      "Some weights of the model checkpoint at dbmdz/bert-large-cased-finetuned-conll03-english were not used when initializing BertForTokenClassification: ['bert.pooler.dense.bias', 'bert.pooler.dense.weight']\n",
      "- This IS expected if you are initializing BertForTokenClassification from the checkpoint of a model trained on another task or with another architecture (e.g. initializing a BertForSequenceClassification model from a BertForPreTraining model).\n",
      "- This IS NOT expected if you are initializing BertForTokenClassification from the checkpoint of a model that you expect to be exactly identical (initializing a BertForSequenceClassification model from a BertForSequenceClassification model).\n",
      "Device set to use cpu\n"
     ]
    }
   ],
   "source": [
    "new_keywords = extract_keywords(X_train, tfidf.vocabulary_)"
   ]
  },
  {
   "cell_type": "code",
   "execution_count": 11,
   "metadata": {},
   "outputs": [],
   "source": [
    "updated_tfidf = update_tfidf_vocabulary(tfidf, new_keywords)"
   ]
  },
  {
   "cell_type": "code",
   "execution_count": 12,
   "metadata": {},
   "outputs": [
    {
     "name": "stdout",
     "output_type": "stream",
     "text": [
      "Updated Model Performance:\n",
      "[[965   0]\n",
      " [146   4]]\n",
      "              precision    recall  f1-score   support\n",
      "\n",
      "           0       0.87      1.00      0.93       965\n",
      "           1       1.00      0.03      0.05       150\n",
      "\n",
      "    accuracy                           0.87      1115\n",
      "   macro avg       0.93      0.51      0.49      1115\n",
      "weighted avg       0.89      0.87      0.81      1115\n",
      "\n"
     ]
    }
   ],
   "source": [
    "train_updated_tfidf(X_train, y_train, X_test, y_test, updated_tfidf)"
   ]
  }
 ],
 "metadata": {
  "kernelspec": {
   "display_name": ".venv",
   "language": "python",
   "name": "python3"
  },
  "language_info": {
   "codemirror_mode": {
    "name": "ipython",
    "version": 3
   },
   "file_extension": ".py",
   "mimetype": "text/x-python",
   "name": "python",
   "nbconvert_exporter": "python",
   "pygments_lexer": "ipython3",
   "version": "3.12.3"
  }
 },
 "nbformat": 4,
 "nbformat_minor": 2
}
